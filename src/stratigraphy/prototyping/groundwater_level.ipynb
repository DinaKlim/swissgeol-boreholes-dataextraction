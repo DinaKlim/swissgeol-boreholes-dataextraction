{
 "cells": [
  {
   "cell_type": "markdown",
   "metadata": {},
   "source": [
    "# Groundwater extraction \n",
    "\n",
    "This notebook shows how the different techniques extract the groundwater level information from the borehole profiles."
   ]
  },
  {
   "cell_type": "code",
   "execution_count": null,
   "metadata": {},
   "outputs": [],
   "source": [
    "# Handle the path and cwd\n",
    "import os\n",
    "import fitz\n",
    "from pathlib import Path\n"
   ]
  },
  {
   "cell_type": "code",
   "execution_count": null,
   "metadata": {},
   "outputs": [],
   "source": [
    "\n",
    "# Switch to the root directory of the repo.\n",
    "%cd ~/swissgeol-boreholes-dataextraction\n",
    "\n",
    "os.getcwd()"
   ]
  },
  {
   "cell_type": "markdown",
   "metadata": {},
   "source": [
    "Start with loading data from the ZH dataset as the data is already labeled there."
   ]
  },
  {
   "cell_type": "code",
   "execution_count": null,
   "metadata": {},
   "outputs": [],
   "source": [
    "# input_directory = Path(\"data/geoquat/test\")\n",
    "# draw_directory = Path(\"src/stratigraphy/prototyping/data/draw\")\n",
    "\n",
    "input_directory = Path(\"data/zurich\")\n",
    "draw_directory = Path(\"src/stratigraphy/prototyping/data/draw\")"
   ]
  },
  {
   "cell_type": "markdown",
   "metadata": {},
   "source": [
    "## Load the GT and DB entry from the S3 File"
   ]
  },
  {
   "cell_type": "code",
   "execution_count": null,
   "metadata": {},
   "outputs": [],
   "source": [
    "import json\n",
    "# filename = \"data/geoquat_ground_truth.json\"\n",
    "filename = \"data/zurich_ground_truth.json\"\n",
    "\n",
    "with open(filename, 'r') as f:\n",
    "    data = json.load(f)"
   ]
  },
  {
   "cell_type": "markdown",
   "metadata": {},
   "source": [
    "## Load the PDF image"
   ]
  },
  {
   "cell_type": "code",
   "execution_count": null,
   "metadata": {},
   "outputs": [],
   "source": [
    "# TP Examples: \n",
    "# filename = \"267123002-bp.pdf\"\n",
    "# filename = \"267123021-bp.pdf\"  # TODO: elevation needs to be extracted\n",
    "# filename = \"267123055-bp.pdf\"\n",
    "# filename = \"268123018-bp.pdf\"\n",
    "# filename = \"268124391-bp.pdf\"\n",
    "# filename = \"676254009-bp.pdf\"\n",
    "# filename = \"679259016-bp.pdf\"\n",
    "# filename = \"267123099-bp.pdf\"\n",
    "# filename = \"267125314-bp.pdf\"  # GW info is on the right side\n",
    "\n",
    "\n",
    "# FP Examples: \n",
    "# filename = \"267124070-bp.pdf\"  # text extraction did not work ... \n",
    "# filename = \"267123080-bp.pdf\"  # text extraction did not work ... \n",
    "\n",
    "# filename = \"267123094-bp.pdf\"  # missing keyword, only logo\n",
    "\n",
    "# filename = \"267125223-bp.pdf\"\n",
    "# filename = \"267125334-bp.pdf\" # GT wrong \n",
    "\n",
    "# filename = \"680244005-bp.pdf\"\n",
    "# filename = \"267125312-bp.pdf\"\n",
    "filename = \"268124569-bp.pdf\""
   ]
  },
  {
   "cell_type": "code",
   "execution_count": null,
   "metadata": {},
   "outputs": [],
   "source": [
    "# filter the json for the file name\n",
    "gt_single_file_data = data[filename]\n",
    "gt_single_file_data"
   ]
  },
  {
   "cell_type": "code",
   "execution_count": null,
   "metadata": {},
   "outputs": [],
   "source": [
    "import logging\n",
    "\n",
    "from stratigraphy.util.util import read_params\n",
    "logger = logging.getLogger(__name__)\n",
    "\n",
    "matching_params = read_params(\"matching_params.yml\")\n"
   ]
  },
  {
   "cell_type": "markdown",
   "metadata": {},
   "source": [
    "## Show the document"
   ]
  },
  {
   "cell_type": "code",
   "execution_count": null,
   "metadata": {},
   "outputs": [],
   "source": [
    "doc = fitz.open(os.path.join(input_directory, filename))\n",
    "nb_pages = doc.page_count\n",
    "\n",
    "print(f\"Number of pages: {nb_pages}\")"
   ]
  },
  {
   "cell_type": "code",
   "execution_count": null,
   "metadata": {},
   "outputs": [],
   "source": [
    "for i in range(nb_pages):    \n",
    "    page = doc.load_page(i)  # load the page\n",
    "    pix = page.get_pixmap()  # render page to an image\n",
    "\n",
    "    # plot the image\n",
    "    import matplotlib.pyplot as plt\n",
    "    import numpy as np\n",
    "\n",
    "    img_array = np.frombuffer(pix.samples, dtype=np.uint8).reshape(pix.h, pix.w, pix.n)\n",
    "\n",
    "    plt.figure(figsize=(20, 20))\n",
    "    plt.imshow(img_array)\n",
    "    plt.show()"
   ]
  },
  {
   "cell_type": "markdown",
   "metadata": {},
   "source": [
    "# Save the image a PNG"
   ]
  },
  {
   "cell_type": "code",
   "execution_count": null,
   "metadata": {},
   "outputs": [],
   "source": [
    "def convert_pdf_to_png(pdf_file: Path, output_directory: Path):\n",
    "    \"\"\"Convert pdf files to png files.\n",
    "\n",
    "    Args:\n",
    "        input_directory (Path): The input directory containing the pdf files.\n",
    "        output_directory (Path): The output directory to save the png files.\n",
    "    \"\"\"\n",
    "    if isinstance(pdf_file, str):\n",
    "        pdf_file = Path(pdf_file)\n",
    "    if isinstance(output_directory, str):\n",
    "        output_directory = Path(output_directory)\n",
    "\n",
    "    document = fitz.open(pdf_file)\n",
    "    for page_number in range(document.page_count):\n",
    "        page = document.load_page(page_number)\n",
    "        image = page.get_pixmap(matrix=fitz.Matrix(3, 3))\n",
    "\n",
    "        if output_directory is None:\n",
    "            output_directory = pdf_file.parent\n",
    "        image.save(output_directory / f\"{pdf_file.stem}_{page_number}.png\")\n",
    "\n",
    "        print(f\"Page {page_number} saved as {output_directory / pdf_file.stem}_{page_number}.png\")\n"
   ]
  },
  {
   "cell_type": "code",
   "execution_count": null,
   "metadata": {},
   "outputs": [],
   "source": [
    "# convert_pdf_to_png(os.path.join(input_directory, filename), None)"
   ]
  },
  {
   "cell_type": "markdown",
   "metadata": {},
   "source": [
    "## List text by page"
   ]
  },
  {
   "cell_type": "code",
   "execution_count": null,
   "metadata": {},
   "outputs": [],
   "source": [
    "from stratigraphy.util.extract_text import extract_text_lines\n",
    "\n",
    "with fitz.Document(os.path.join(input_directory, filename)) as doc:\n",
    "\n",
    "    text_in_document = []\n",
    "    for page in doc:\n",
    "        text_in_document += extract_text_lines(page)\n",
    "        page_number = page.number + 1  # page.number is 0-based\n",
    "\n",
    "        print(f\"\\n\\nPage {page_number} has {len(text_in_document)} lines of text\")\n",
    "        \n",
    "        for line in text_in_document:\n",
    "            print(line)"
   ]
  },
  {
   "cell_type": "markdown",
   "metadata": {},
   "source": [
    "## Parse the text in the document"
   ]
  },
  {
   "cell_type": "code",
   "execution_count": null,
   "metadata": {},
   "outputs": [],
   "source": [
    "from stratigraphy.util.coordinate_extraction import CoordinateExtractor\n",
    "from stratigraphy.groundwater.groundwater_extraction import GroundwaterInformation, GroundwaterLevelExtractor\n",
    "from stratigraphy.util.extract_text import extract_text_lines\n",
    "from stratigraphy.util.language_detection import detect_language_of_document\n",
    "\n",
    "logger.info(\"Processing file: %s\", os.path.join(input_directory, filename))\n",
    "\n",
    "predictions = {}\n",
    "\n",
    "with fitz.Document(os.path.join(input_directory, filename)) as doc:\n",
    "\n",
    "    predictions[filename] = {}\n",
    "\n",
    "    text_in_document = []\n",
    "    for page in doc:\n",
    "        text_in_document += extract_text_lines(page)\n",
    "        page_number = page.number + 1  # page.number is 0-based\n",
    "\n",
    "    # Find the language of the document\n",
    "    language = detect_language_of_document(\n",
    "        doc, matching_params[\"default_language\"], matching_params[\"material_description\"].keys()\n",
    "    )\n",
    "    predictions[filename][\"language\"] = language\n",
    "\n",
    "    # Extract the coordinates of the borehole\n",
    "    coordinate_extractor = CoordinateExtractor(doc)\n",
    "    coordinates = coordinate_extractor.extract_coordinates()\n",
    "    if coordinates:\n",
    "        predictions[filename][\"metadata\"] = {\"coordinates\": coordinates.to_json()}\n",
    "    else:\n",
    "        predictions[filename][\"metadata\"] = {\"coordinates\": None}\n",
    "    \n",
    "    # Extract the drilling method\n",
    "    ground_water_extractor = GroundwaterLevelExtractor(doc)\n",
    "    ground_water = ground_water_extractor.extract_groundwater_information()\n",
    "\n",
    "    if ground_water:\n",
    "        predictions[filename][\"metadata\"][\"groundwater_information\"] = ground_water.to_dict()\n",
    "    # else:\n",
    "    #     predictions[filename][\"metadata\"][\"groundwater_information\"] = GroundwaterInformation(\n",
    "    #         None, None, None, None\n",
    "    #     ).to_dict()\n",
    "\n"
   ]
  },
  {
   "cell_type": "code",
   "execution_count": null,
   "metadata": {},
   "outputs": [],
   "source": [
    "ground_water"
   ]
  },
  {
   "cell_type": "code",
   "execution_count": null,
   "metadata": {},
   "outputs": [],
   "source": [
    "from stratigraphy.benchmark.score import create_predictions_objects\n",
    "\n",
    "ground_truth_path = \"data/zurich_ground_truth.json\"\n",
    "predictions_obj, number_of_truth_values = create_predictions_objects(predictions, ground_truth_path)"
   ]
  },
  {
   "cell_type": "markdown",
   "metadata": {},
   "source": [
    "# Draw the predictions"
   ]
  },
  {
   "cell_type": "code",
   "execution_count": null,
   "metadata": {},
   "outputs": [],
   "source": [
    "predictions_obj[filename].metadata"
   ]
  },
  {
   "cell_type": "code",
   "execution_count": null,
   "metadata": {},
   "outputs": [],
   "source": [
    "from stratigraphy.util.draw import draw_coordinates, draw_groundwater_information, draw_metadata\n",
    "from stratigraphy.util.predictions import FilePredictions\n",
    "\n",
    "mlflow_tracking = os.getenv(\"MLFLOW_TRACKING\") == \"True\"  # Checks whether MLFlow tracking is enabled\n",
    "\n",
    "def draw_predictions(predictions: list[FilePredictions], directory: Path, out_directory: Path) -> None:\n",
    "    \"\"\"Draw predictions on pdf pages.\n",
    "\n",
    "    Draws various recognized information on the pdf pages present at directory and saves\n",
    "    them as images in the out_directory.\n",
    "\n",
    "    The drawn information includes:\n",
    "        - Depth columns (if available)\n",
    "        - Depth column entries (if available)\n",
    "        - Material description columns\n",
    "        - Material description text blocks\n",
    "        - Color-coded correctness of the material description text blocks\n",
    "        - Assignments of material description text blocks to depth intervals (if available)\n",
    "\n",
    "    Args:\n",
    "        predictions (dict): Content of the predictions.json file.\n",
    "        directory (Path): Path to the directory containing the pdf files.\n",
    "        out_directory (Path): Path to the output directory where the images are saved.\n",
    "    \"\"\"\n",
    "    if directory.is_file():  # deal with the case when we pass a file instead of a directory\n",
    "        directory = directory.parent\n",
    "    for file_name, file_prediction in predictions.items():\n",
    "        logger.info(\"Drawing predictions for file %s\", file_name)\n",
    "        with fitz.Document(directory / file_name) as doc:\n",
    "            for page_index, page in enumerate(doc):\n",
    "                page_number = page_index + 1\n",
    "                # layers = file_prediction.pages[page_index].layers\n",
    "                # depths_materials_column_pairs = file_prediction.pages[page_index].depths_materials_columns_pairs\n",
    "                if page_index == 0:\n",
    "                    draw_metadata(\n",
    "                        page,\n",
    "                        file_prediction.metadata.coordinates,\n",
    "                        file_prediction.metadata_is_correct.get(\"coordinates\"),\n",
    "                        file_prediction.metadata.groundwater_information,\n",
    "                        file_prediction.metadata_is_correct.get(\"groundwater_information\"),\n",
    "                    )\n",
    "                if file_prediction.metadata.coordinates is not None:\n",
    "                    draw_coordinates(page, file_prediction.metadata.coordinates)\n",
    "                if file_prediction.metadata.groundwater_information is not None:\n",
    "                    draw_groundwater_information(page, file_prediction.metadata.groundwater_information)\n",
    "                # draw_depth_columns_and_material_rect(page, depths_materials_column_pairs)\n",
    "                # draw_material_descriptions(page, layers)\n",
    "\n",
    "                tmp_file_path = out_directory / f\"{file_name.split(\".\")[0]}_page{page_number}.png\"\n",
    "                fitz.utils.get_pixmap(page, matrix=fitz.Matrix(2, 2), clip=page.rect).save(tmp_file_path)\n",
    "                if mlflow_tracking:  # This is only executed if MLFlow tracking is enabled\n",
    "                    try:\n",
    "                        import mlflow\n",
    "\n",
    "                        mlflow.log_artifact(tmp_file_path, artifact_path=\"pages\")\n",
    "                    except NameError:\n",
    "                        logger.warning(\"MLFlow could not be imported. Skipping logging of artifact.\")\n"
   ]
  },
  {
   "cell_type": "code",
   "execution_count": null,
   "metadata": {},
   "outputs": [],
   "source": [
    "print(draw_directory)\n",
    "os.makedirs(draw_directory, exist_ok=True)\n",
    "draw_predictions(predictions_obj, input_directory, draw_directory)\n",
    "\n",
    "import matplotlib.pyplot as plt\n",
    "\n",
    "for prediction in predictions.items():\n",
    "    filename = prediction[0].split(\".\")[0]\n",
    "    img = plt.imread(draw_directory / f\"{filename}_page1.png\")\n",
    "    plt.figure(figsize=(20, 20))        \n",
    "    plt.imshow(img)\n",
    "    plt.axis(\"off\")\n",
    "    plt.show()"
   ]
  },
  {
   "cell_type": "code",
   "execution_count": null,
   "metadata": {},
   "outputs": [],
   "source": [
    "assert False"
   ]
  },
  {
   "cell_type": "markdown",
   "metadata": {},
   "source": [
    "# Computer Vision Approach to extract the text from the images"
   ]
  },
  {
   "cell_type": "markdown",
   "metadata": {},
   "source": [
    "# Find a triangle in an image\n",
    "\n",
    "source: https://www.geeksforgeeks.org/how-to-detect-shapes-in-images-in-python-using-opencv/\n",
    "\n",
    "we are going to see how to detect shapes in image. For this we need cv2.findContours() function of OpenCV, and also we are going to use cv2.drawContours() function to draw edges on images. A contour is an outline or a boundary of shape."
   ]
  },
  {
   "cell_type": "code",
   "execution_count": null,
   "metadata": {},
   "outputs": [],
   "source": [
    "import cv2 \n",
    "import numpy as np \n",
    "from matplotlib import pyplot as plt \n",
    "  \n",
    "# reading image \n",
    "filename = \"data/zurich/267123055-bp_0.png\"\n",
    "img = cv2.imread(filename) \n",
    "  \n",
    "# converting image into grayscale image \n",
    "gray = cv2.cvtColor(img, cv2.COLOR_BGR2GRAY) \n",
    "  \n",
    "# setting threshold of gray image \n",
    "_, threshold = cv2.threshold(gray, 127, 255, cv2.THRESH_BINARY) \n",
    "  \n",
    "# using a findContours() function \n",
    "contours, _ = cv2.findContours( \n",
    "    threshold, cv2.RETR_TREE, cv2.CHAIN_APPROX_SIMPLE) \n",
    "  \n"
   ]
  },
  {
   "cell_type": "code",
   "execution_count": null,
   "metadata": {},
   "outputs": [],
   "source": [
    "i = 0\n",
    "  \n",
    "# list for storing names of shapes \n",
    "for contour in contours: \n",
    "  \n",
    "    # here we are ignoring first counter because  \n",
    "    # findcontour function detects whole image as shape \n",
    "    if i == 0: \n",
    "        i = 1\n",
    "        continue\n",
    "  \n",
    "    # cv2.approxPloyDP() function to approximate the shape \n",
    "    approx = cv2.approxPolyDP( \n",
    "        contour, 0.01 * cv2.arcLength(contour, True), True) \n",
    "      \n",
    "    # using drawContours() function \n",
    "    cv2.drawContours(img, [contour], 0, (0, 0, 255), 5) \n",
    "  \n",
    "    # finding center point of shape \n",
    "    M = cv2.moments(contour) \n",
    "    if M['m00'] != 0.0: \n",
    "        x = int(M['m10']/M['m00']) \n",
    "        y = int(M['m01']/M['m00']) \n",
    "  \n",
    "    # putting shape name at center of each shape \n",
    "    if len(approx) == 3: \n",
    "        cv2.putText(img, 'Triangle', (x, y), \n",
    "                    cv2.FONT_HERSHEY_SIMPLEX, 0.6, (255, 0, 0), 2) \n",
    "  \n",
    "    # elif len(approx) == 4: \n",
    "    #     cv2.putText(img, 'Quadrilateral', (x, y), \n",
    "    #                 cv2.FONT_HERSHEY_SIMPLEX, 0.6, (255, 255, 255), 2) \n",
    "  \n",
    "    # elif len(approx) == 5: \n",
    "    #     cv2.putText(img, 'Pentagon', (x, y), \n",
    "    #                 cv2.FONT_HERSHEY_SIMPLEX, 0.6, (255, 255, 255), 2) \n",
    "  \n",
    "    # elif len(approx) == 6: \n",
    "    #     cv2.putText(img, 'Hexagon', (x, y), \n",
    "    #                 cv2.FONT_HERSHEY_SIMPLEX, 0.6, (255, 255, 255), 2) \n",
    "  \n",
    "    # else: \n",
    "    #     cv2.putText(img, 'circle', (x, y), \n",
    "    #                 cv2.FONT_HERSHEY_SIMPLEX, 0.6, (255, 255, 255), 2) \n",
    "  \n",
    "# displaying the image after drawing contours \n",
    "cv2.imshow('shapes', img)\n",
    "plt.imshow(img)\n",
    "\n",
    "plt.savefig(\"data/zurich/267123055-bp_0_contours.pdf\")"
   ]
  },
  {
   "cell_type": "markdown",
   "metadata": {},
   "source": [
    "# Try to find the groundwater triangle with template matching"
   ]
  },
  {
   "cell_type": "code",
   "execution_count": null,
   "metadata": {},
   "outputs": [],
   "source": [
    "import cv2 as cv\n",
    "import numpy as np\n",
    "from matplotlib import pyplot as plt\n",
    " \n",
    "img = cv.imread('data/zurich/267123055-bp_0.png', cv.IMREAD_GRAYSCALE)\n",
    "assert img is not None, \"file could not be read, check with os.path.exists()\"\n",
    "img2 = img.copy()\n",
    "template = cv.imread('/Users/david.cleres/Desktop/template_2.png', cv.IMREAD_GRAYSCALE)\n",
    "assert template is not None, \"file could not be read, check with os.path.exists()\"\n",
    "w, h = template.shape[::-1]\n",
    " \n",
    "# All the 6 methods for comparison in a list\n",
    "methods = ['TM_CCOEFF', 'TM_CCOEFF_NORMED', 'TM_CCORR',\n",
    "            'TM_CCORR_NORMED', 'TM_SQDIFF', 'TM_SQDIFF_NORMED']\n",
    " \n",
    "for meth in methods:\n",
    "    img = img2.copy()\n",
    "    method = getattr(cv, meth)\n",
    " \n",
    "    # Apply template Matching\n",
    "    res = cv.matchTemplate(img,template,method)\n",
    "    min_val, max_val, min_loc, max_loc = cv.minMaxLoc(res)\n",
    " \n",
    "    # If the method is TM_SQDIFF or TM_SQDIFF_NORMED, take minimum\n",
    "    if method in [cv.TM_SQDIFF, cv.TM_SQDIFF_NORMED]:\n",
    "        top_left = min_loc\n",
    "    else:\n",
    "        top_left = max_loc\n",
    "    bottom_right = (top_left[0] + w, top_left[1] + h)\n",
    " \n",
    "    cv.rectangle(img,top_left, bottom_right, (0, 0, 0), 2)\n",
    "    \n",
    "    plt.figure(figsize=(100, 100))    \n",
    "    plt.subplot(121)\n",
    "    plt.imshow(res,cmap = 'gray')\n",
    "    plt.title('Matching Result'), plt.xticks([]), plt.yticks([])\n",
    "    plt.subplot(122)\n",
    "    plt.imshow(img,cmap = 'gray')\n",
    "    plt.title('Detected Point'), plt.xticks([]), plt.yticks([])\n",
    "    plt.suptitle(meth)\n",
    " \n",
    "    plt.show()"
   ]
  },
  {
   "cell_type": "code",
   "execution_count": null,
   "metadata": {},
   "outputs": [],
   "source": []
  }
 ],
 "metadata": {
  "kernelspec": {
   "display_name": "swisstopo",
   "language": "python",
   "name": "python3"
  },
  "language_info": {
   "codemirror_mode": {
    "name": "ipython",
    "version": 3
   },
   "file_extension": ".py",
   "mimetype": "text/x-python",
   "name": "python",
   "nbconvert_exporter": "python",
   "pygments_lexer": "ipython3",
   "version": "3.12.4"
  }
 },
 "nbformat": 4,
 "nbformat_minor": 2
}
