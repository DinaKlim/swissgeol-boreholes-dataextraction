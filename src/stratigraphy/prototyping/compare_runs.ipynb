{
 "cells": [
  {
   "cell_type": "code",
   "execution_count": null,
   "id": "bb9a5b57-b0a5-4058-b074-a54be64c76ec",
   "metadata": {},
   "outputs": [],
   "source": [
    "from stratigraphy import DATAPATH, PROJECT_ROOT\n",
    "import pandas as pd\n",
    "import numpy as np"
   ]
  },
  {
   "cell_type": "code",
   "execution_count": null,
   "id": "03c71e7f-42ba-4ac7-938d-cb376b868ac2",
   "metadata": {},
   "outputs": [],
   "source": [
    "# Find the run ID in the mlflow UI that can be found at the following URL: http://127.0.0.1:5000/\n",
    "run_id_1 = \"ee380f63e170484ba416fda95f860a4c\"  # old run\n",
    "run_id_2 = \"9b27ba02f14745e1b43f138f57df8455\"  # new run"
   ]
  },
  {
   "cell_type": "code",
   "execution_count": null,
   "id": "5e3267e5",
   "metadata": {},
   "outputs": [],
   "source": [
    "# list the tem most recent directories in path\n",
    "path = PROJECT_ROOT / \"mlartifacts\" / \"856911286406481746\" \n",
    "dirs = sorted(path.iterdir(), key=lambda x: x.stat().st_ctime, reverse=True)[:10]\n",
    "\n",
    "# Remove ds_store\n",
    "dirs = [str(d) for d in dirs if \"DS_Store\" not in str(d)]\n",
    "dirs = [d.split(\"/\")[-1] for d in dirs]\n",
    "dirs"
   ]
  },
  {
   "cell_type": "code",
   "execution_count": null,
   "id": "ec089cf1",
   "metadata": {},
   "outputs": [],
   "source": [
    "run_id_1 = dirs[1]\n",
    "run_id_2 = dirs[0]  # newst run"
   ]
  },
  {
   "cell_type": "code",
   "execution_count": null,
   "id": "a2f643aa-da06-4340-bfb7-f7d0df31c88b",
   "metadata": {},
   "outputs": [],
   "source": [
    "run_id_1_path = PROJECT_ROOT / \"mlartifacts\" / \"856911286406481746\" / run_id_1 / \"artifacts\" / \"document_level_metrics.csv\"\n",
    "run_id_2_path = PROJECT_ROOT / \"mlartifacts\" / \"856911286406481746\" / run_id_2 / \"artifacts\" / \"document_level_metrics.csv\"\n",
    "\n",
    "run_id_1_page_dir = PROJECT_ROOT / \"mlartifacts\" / \"856911286406481746\" / run_id_1 / \"artifacts\" / \"pages\"\n",
    "run_id_2_page_dir = PROJECT_ROOT / \"mlartifacts\" / \"856911286406481746\" / run_id_2 / \"artifacts\" / \"pages\"\n",
    "\n",
    "# Load the GT\n",
    "import json\n",
    "# filename = PROJECT_ROOT / \"data\" / \"geoquat_ground_truth.json\"\n",
    "filename = PROJECT_ROOT / \"data\" / \"zurich_ground_truth.json\"\n",
    "\n",
    "with open(filename, 'r') as f:\n",
    "    data = json.load(f)"
   ]
  },
  {
   "cell_type": "code",
   "execution_count": null,
   "id": "56bbb654-7a6e-449a-a8bb-9f8c7aaf6f0a",
   "metadata": {},
   "outputs": [],
   "source": [
    "metrics_run_id_1_df = pd.read_csv(run_id_1_path).drop(columns=[\"Unnamed: 0\"])\n",
    "metrics_run_id_2_df = pd.read_csv(run_id_2_path).drop(columns=[\"Unnamed: 0\"])\n",
    "\n",
    "# Keep only the document_name and groundwater_depth\n",
    "metrics_run_id_1_df = metrics_run_id_1_df[[\"document_name\", \"groundwater_depth\"]]\n",
    "metrics_run_id_2_df = metrics_run_id_2_df[[\"document_name\", \"groundwater_depth\"]]"
   ]
  },
  {
   "cell_type": "code",
   "execution_count": null,
   "id": "0f076b57",
   "metadata": {},
   "outputs": [],
   "source": [
    "metrics_run_id_1_df.head()"
   ]
  },
  {
   "cell_type": "code",
   "execution_count": null,
   "id": "62099f8b",
   "metadata": {},
   "outputs": [],
   "source": [
    "metrics_run_id_1_df.columns"
   ]
  },
  {
   "cell_type": "code",
   "execution_count": null,
   "id": "3ab82b4d",
   "metadata": {},
   "outputs": [],
   "source": [
    "# Change the nan values to 2 - this is to make sure that the difference is not due to the fact that the model did not predict the label\n",
    "\n",
    "metrics_run_id_1_df = metrics_run_id_1_df.fillna(2)\n",
    "metrics_run_id_2_df = metrics_run_id_2_df.fillna(2)\n",
    "\n",
    "# Now the groundwater_depth column can contain three different values: 0, 1, 2 which correspond to the three classes: false, true, no prediction"
   ]
  },
  {
   "cell_type": "markdown",
   "id": "1f8d5c9b",
   "metadata": {},
   "source": [
    "Find the cases where the prediction changed"
   ]
  },
  {
   "cell_type": "code",
   "execution_count": null,
   "id": "71e607e8-ed2b-4089-b3b1-38939252a282",
   "metadata": {},
   "outputs": [],
   "source": [
    "# get unequal cases:\n",
    "changed_documents = metrics_run_id_1_df.groundwater_depth != metrics_run_id_2_df.groundwater_depth\n",
    "changed_documents"
   ]
  },
  {
   "cell_type": "code",
   "execution_count": null,
   "id": "bf71789b-6d03-4934-bcee-910396d4bc2a",
   "metadata": {},
   "outputs": [],
   "source": [
    "merged = pd.merge(metrics_run_id_1_df[changed_documents], metrics_run_id_2_df[changed_documents], how='inner', on=\"document_name\", suffixes=('_new', ''))"
   ]
  },
  {
   "cell_type": "code",
   "execution_count": null,
   "id": "0de4b69d",
   "metadata": {},
   "outputs": [],
   "source": [
    "merged"
   ]
  },
  {
   "cell_type": "code",
   "execution_count": null,
   "id": "e36e63a6",
   "metadata": {},
   "outputs": [],
   "source": [
    "# Draw the changes head to head\n",
    "\n",
    "import matplotlib.pyplot as plt\n",
    "\n",
    "for i in range(merged.shape[0]):\n",
    "    print(merged.iloc[i].document_name)\n",
    "    \n",
    "    # print the groundtruth\n",
    "    gt_single_file_data = data[merged.iloc[i].document_name][\"groundwater\"]\n",
    "    print(gt_single_file_data)\n",
    "\n",
    "    img_1 = plt.imread(run_id_1_page_dir / f\"{merged.iloc[i].document_name}_page1.png\")\n",
    "    img_2 = plt.imread(run_id_2_page_dir / f\"{merged.iloc[i].document_name}_page1.png\")\n",
    "\n",
    "    fig, ax = plt.subplots(1, 2, figsize=(20, 20))\n",
    "    ax[0].imshow(img_1)\n",
    "    ax[0].axis(\"off\")\n",
    "    ax[0].set_title(\"Run 1\")\n",
    "\n",
    "    ax[1].imshow(img_2)\n",
    "    ax[1].axis(\"off\")\n",
    "    ax[1].set_title(\"Run 2\")\n",
    "    plt.show()\n"
   ]
  },
  {
   "cell_type": "code",
   "execution_count": null,
   "id": "2d36e72d",
   "metadata": {},
   "outputs": [],
   "source": [
    "img_1 = plt.imread(run_id_1_page_dir / f\"{merged.iloc[i].document_name}_page1.png\")\n",
    "img_2 = plt.imread(run_id_2_page_dir / f\"{merged.iloc[i].document_name}_page1.png\")"
   ]
  },
  {
   "cell_type": "markdown",
   "id": "7d596e92",
   "metadata": {},
   "source": [
    "# Export the mislabeled data \n",
    "\n",
    "The goal here is export the mislabeled file with ignoring the ones that are already known as not being fixable due to various reasons"
   ]
  },
  {
   "cell_type": "code",
   "execution_count": null,
   "id": "77a1fcf2",
   "metadata": {},
   "outputs": [],
   "source": [
    "metrics_run_id_2_df = pd.read_csv(run_id_2_path).drop(columns=[\"Unnamed: 0\"])\n",
    "metrics_run_id_2_df = metrics_run_id_2_df[metrics_run_id_2_df.groundwater_depth == 0.0]\n",
    "metrics_run_id_2_df"
   ]
  },
  {
   "cell_type": "code",
   "execution_count": null,
   "id": "548f4fe9",
   "metadata": {},
   "outputs": [],
   "source": [
    "filenames_to_ignore = [\n",
    "    # confusion between depth and GT -> need to extract elevation\n",
    "    \"267125029-bp.pdf\",\n",
    "    \"267123083-bp.pdf\",\n",
    "    \"268125539-bp.pdf\",\n",
    "    \"269126084-bp.pdf\",\n",
    "    \"269126085-bp.pdf\",\n",
    "    \"677250019-bp.pdf\",\n",
    "    \"681249002-bp.pdf\",\n",
    "    # confusion between UCSC Class GW and the keyword\n",
    "    \"267125086-bp.pdf\",\n",
    "    \"673251002-bp.pdf\",\n",
    "    \"699240002-bp.pdf\",\n",
    "    # text extraction issue\n",
    "    \"267124070-bp.pdf\",\n",
    "    \"267123080-bp.pdf\",\n",
    "    \"267125469-bp.pdf\",\n",
    "    \"675246002-bp.pdf\",\n",
    "    # groundwater keyword is in column\n",
    "    \"267122001-bp.pdf\",\n",
    "    # logo groundwater only\n",
    "    \"267123094-bp.pdf\",\n",
    "    \"267125308-bp.pdf\",\n",
    "    \"678249001-bp.pdf\",\n",
    "    \"699240002-bp.pdf\",\n",
    "    \"267125310-bp.pdf\",\n",
    "    # several groundwater measurements\n",
    "    \"267123089-bp.pdf\",\n",
    "    \"267123078-bp.pdf\",\n",
    "    \"269126084-bp.pdf\",\n",
    "    \"269126085-bp.pdf\",\n",
    "    \"680244002-bp.pdf\",\n",
    "    \"678249001-bp.pdf\",\n",
    "    # gt is wrong\n",
    "    \"267125223-bp.pdf\",\n",
    "    \"267125339-bp.pdf\",\n",
    "    \"267125338-bp.pdf\",\n",
    "    \"267125334-bp.pdf\",\n",
    "    \"268124635-bp.pdf\",\n",
    "    \"269124200-bp.pdf\",\n",
    "    \"675246002-bp.pdf\",\n",
    "    \"268124569-bp.pdf\",\n",
    "]\n",
    "\n",
    "metrics_run_id_2_df = metrics_run_id_2_df[~metrics_run_id_2_df.document_name.isin(filenames_to_ignore)]\n",
    "metrics_run_id_2_df"
   ]
  },
  {
   "cell_type": "code",
   "execution_count": null,
   "id": "9779f122",
   "metadata": {},
   "outputs": [],
   "source": [
    "import matplotlib.pyplot as plt\n",
    "\n",
    "for i in range(metrics_run_id_2_df.shape[0]):\n",
    "    print(metrics_run_id_2_df.iloc[i].document_name)\n",
    "    \n",
    "    # print the groundtruth\n",
    "    gt_single_file_data = data[metrics_run_id_2_df.iloc[i].document_name][\"groundwater\"]\n",
    "    print(gt_single_file_data)\n",
    "\n",
    "    img_2 = plt.imread(run_id_2_page_dir / f\"{metrics_run_id_2_df.iloc[i].document_name}_page1.png\")\n",
    "\n",
    "    plt.figure(figsize=(20, 20))\n",
    "    plt.imshow(img_2)\n",
    "    plt.axis(\"off\")\n",
    "    plt.show()"
   ]
  },
  {
   "cell_type": "code",
   "execution_count": null,
   "id": "00fd27f5",
   "metadata": {},
   "outputs": [],
   "source": []
  },
  {
   "cell_type": "code",
   "execution_count": null,
   "id": "3fc5e754",
   "metadata": {},
   "outputs": [],
   "source": []
  },
  {
   "cell_type": "code",
   "execution_count": null,
   "id": "c17d59ec",
   "metadata": {},
   "outputs": [],
   "source": []
  }
 ],
 "metadata": {
  "kernelspec": {
   "display_name": "Python 3 (ipykernel)",
   "language": "python",
   "name": "python3"
  },
  "language_info": {
   "codemirror_mode": {
    "name": "ipython",
    "version": 3
   },
   "file_extension": ".py",
   "mimetype": "text/x-python",
   "name": "python",
   "nbconvert_exporter": "python",
   "pygments_lexer": "ipython3",
   "version": "3.12.4"
  }
 },
 "nbformat": 4,
 "nbformat_minor": 5
}
